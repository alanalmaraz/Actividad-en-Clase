{
  "metadata": {
    "kernelspec": {
      "name": "python",
      "display_name": "Python (Pyodide)",
      "language": "python"
    },
    "language_info": {
      "codemirror_mode": {
        "name": "python",
        "version": 3
      },
      "file_extension": ".py",
      "mimetype": "text/x-python",
      "name": "python",
      "nbconvert_exporter": "python",
      "pygments_lexer": "ipython3",
      "version": "3.8"
    }
  },
  "nbformat_minor": 5,
  "nbformat": 4,
  "cells": [
    {
      "id": "88217296-1f38-4e4a-879a-9af780956b0a",
      "cell_type": "markdown",
      "source": "# PYTHON",
      "metadata": {}
    },
    {
      "id": "481f4a73-83cb-453e-9a77-06de347d92e1",
      "cell_type": "markdown",
      "source": "## TIPOS DE VARIABLES",
      "metadata": {}
    },
    {
      "id": "311397dc-1845-401d-b1d7-22ac9d66a5e4",
      "cell_type": "code",
      "source": "no_intentos = 4\nprint(no_intentos)\ntype(no_intentos)",
      "metadata": {
        "trusted": true
      },
      "outputs": [
        {
          "name": "stdout",
          "text": "4\n",
          "output_type": "stream"
        },
        {
          "execution_count": 6,
          "output_type": "execute_result",
          "data": {
            "text/plain": "int"
          },
          "metadata": {}
        }
      ],
      "execution_count": 6
    },
    {
      "id": "dd5c89e0-d904-4c55-8487-f01ae8b51a88",
      "cell_type": "code",
      "source": "pi = 3.1416\nprint(pi)\ntype(pi)",
      "metadata": {
        "trusted": true
      },
      "outputs": [
        {
          "name": "stdout",
          "text": "3.1416\n",
          "output_type": "stream"
        },
        {
          "execution_count": 7,
          "output_type": "execute_result",
          "data": {
            "text/plain": "float"
          },
          "metadata": {}
        }
      ],
      "execution_count": 7
    },
    {
      "id": "e6e36269-2015-489a-b547-052092274e9d",
      "cell_type": "code",
      "source": "apellido = \"Morales\"\nprint(apellido)\ntype(apellido)",
      "metadata": {
        "trusted": true
      },
      "outputs": [
        {
          "name": "stdout",
          "text": "Morales\n",
          "output_type": "stream"
        },
        {
          "execution_count": 8,
          "output_type": "execute_result",
          "data": {
            "text/plain": "str"
          },
          "metadata": {}
        }
      ],
      "execution_count": 8
    },
    {
      "id": "8dc6484e-a046-43a8-9413-20bd6ea95d47",
      "cell_type": "code",
      "source": "desayuno = True\nprint(desayuno)\ntype(desayuno)",
      "metadata": {
        "trusted": true
      },
      "outputs": [
        {
          "name": "stdout",
          "text": "True\n",
          "output_type": "stream"
        },
        {
          "execution_count": 10,
          "output_type": "execute_result",
          "data": {
            "text/plain": "bool"
          },
          "metadata": {}
        }
      ],
      "execution_count": 10
    },
    {
      "id": "baac99f9-041c-4589-b882-8ab9f2023396",
      "cell_type": "markdown",
      "source": "## Operadores",
      "metadata": {}
    },
    {
      "id": "44dc0645-cd60-492d-aa5d-394ebc33007a",
      "cell_type": "markdown",
      "source": "+ - / * ** % < > <= >= != == && ||",
      "metadata": {}
    },
    {
      "id": "467744a6-e106-4eba-8def-7478f150013d",
      "cell_type": "code",
      "source": "a = 3\nb = 5.2\n\na + b",
      "metadata": {
        "trusted": true
      },
      "outputs": [
        {
          "execution_count": 13,
          "output_type": "execute_result",
          "data": {
            "text/plain": "8.2"
          },
          "metadata": {}
        }
      ],
      "execution_count": 13
    },
    {
      "id": "f6869730-745c-4af3-aec1-c779db53f256",
      "cell_type": "code",
      "source": "a - b",
      "metadata": {
        "trusted": true
      },
      "outputs": [
        {
          "execution_count": 16,
          "output_type": "execute_result",
          "data": {
            "text/plain": "-2.2"
          },
          "metadata": {}
        }
      ],
      "execution_count": 16
    },
    {
      "id": "8445dc88-215e-4f7d-9f2b-fdd2fa1cb9b7",
      "cell_type": "code",
      "source": "a * b",
      "metadata": {
        "trusted": true
      },
      "outputs": [
        {
          "execution_count": 17,
          "output_type": "execute_result",
          "data": {
            "text/plain": "15.600000000000001"
          },
          "metadata": {}
        }
      ],
      "execution_count": 17
    },
    {
      "id": "8381788b-a845-4e9e-96db-8625ad8f282c",
      "cell_type": "code",
      "source": "a / b",
      "metadata": {
        "trusted": true
      },
      "outputs": [
        {
          "execution_count": 18,
          "output_type": "execute_result",
          "data": {
            "text/plain": "0.5769230769230769"
          },
          "metadata": {}
        }
      ],
      "execution_count": 18
    },
    {
      "id": "bcd840b6-9a9c-4d01-b2d9-2190ad638194",
      "cell_type": "code",
      "source": "a ** b",
      "metadata": {
        "trusted": true
      },
      "outputs": [
        {
          "execution_count": 19,
          "output_type": "execute_result",
          "data": {
            "text/plain": "302.71261832657075"
          },
          "metadata": {}
        }
      ],
      "execution_count": 19
    },
    {
      "id": "b05381a1-c3ec-40d9-a45e-a05f1cda4909",
      "cell_type": "code",
      "source": "a // b",
      "metadata": {
        "trusted": true
      },
      "outputs": [
        {
          "execution_count": 20,
          "output_type": "execute_result",
          "data": {
            "text/plain": "0.0"
          },
          "metadata": {}
        }
      ],
      "execution_count": 20
    },
    {
      "id": "42d7e698-9d10-44c7-a0cb-56474fa489c9",
      "cell_type": "code",
      "source": "a % b",
      "metadata": {
        "trusted": true
      },
      "outputs": [
        {
          "execution_count": 21,
          "output_type": "execute_result",
          "data": {
            "text/plain": "3.0"
          },
          "metadata": {}
        }
      ],
      "execution_count": 21
    },
    {
      "id": "97f0f0a5-1828-4dae-8ac2-db5da76db3a7",
      "cell_type": "code",
      "source": "c = a + b\nprint(\"El resultado de a + b: \" + str(c))",
      "metadata": {
        "trusted": true
      },
      "outputs": [
        {
          "name": "stdout",
          "text": "El resultado de a + b: 8.2\n",
          "output_type": "stream"
        }
      ],
      "execution_count": 22
    },
    {
      "id": "e61d6a28-58df-4c2d-b0e7-4181915197b2",
      "cell_type": "code",
      "source": "apellido = \"morales\"",
      "metadata": {
        "trusted": true
      },
      "outputs": [],
      "execution_count": 24
    },
    {
      "id": "8197c8ac-90bd-4046-844d-9e8ea5a855a3",
      "cell_type": "code",
      "source": "apellido == \"ruiz\"",
      "metadata": {
        "trusted": true
      },
      "outputs": [
        {
          "execution_count": 25,
          "output_type": "execute_result",
          "data": {
            "text/plain": "False"
          },
          "metadata": {}
        }
      ],
      "execution_count": 25
    },
    {
      "id": "d9460530-a10d-4603-9bd7-91713a4d7abc",
      "cell_type": "markdown",
      "source": "## Control de flujo",
      "metadata": {}
    },
    {
      "id": "fc893679-fea4-4af3-8bdd-d5be2a687557",
      "cell_type": "code",
      "source": "# Inicio\n\na = 88\nb = 0\n\nif(b != 0):\n    if(a % b ==0):\n        print(\"La variable es a si es multiplo de \" + str(b))\n    else:\n        print( str(a) + \" no es multiplo de \" + str(b))\nelse:\n    print(\"'b' no puede ser 0\")",
      "metadata": {
        "trusted": true
      },
      "outputs": [
        {
          "name": "stdout",
          "text": "'b' no puede ser 0\n",
          "output_type": "stream"
        }
      ],
      "execution_count": 32
    },
    {
      "id": "03a2330f-1acf-42c1-97e4-0d2fada2d603",
      "cell_type": "code",
      "source": "a = 10\ni = 0\nwhile(i <= a):\n    print(i)\n    i += 1",
      "metadata": {
        "trusted": true
      },
      "outputs": [],
      "execution_count": null
    },
    {
      "id": "a4b2ce49-75b6-48fa-abc7-bff27a86683c",
      "cell_type": "code",
      "source": "",
      "metadata": {
        "trusted": true
      },
      "outputs": [],
      "execution_count": null
    }
  ]
}